{
  "nbformat": 4,
  "nbformat_minor": 0,
  "metadata": {
    "colab": {
      "provenance": []
    },
    "kernelspec": {
      "name": "python3",
      "display_name": "Python 3"
    },
    "language_info": {
      "name": "python"
    }
  },
  "cells": [
    {
      "cell_type": "code",
      "execution_count": 2,
      "metadata": {
        "id": "j_GCEx5jsnDT"
      },
      "outputs": [],
      "source": [
        "import numpy as np\n",
        "import pandas as pd\n",
        "import matplotlib.pyplot as plt\n"
      ]
    },
    {
      "cell_type": "code",
      "source": [
        "##### outliers for wine servings\n",
        "\n",
        "data=pd.read_csv(\"/content/beer-servings.csv\",index_col='Unnamed: 0')\n",
        "data"
      ],
      "metadata": {
        "colab": {
          "base_uri": "https://localhost:8080/",
          "height": 423
        },
        "id": "OU1gNllXsy1T",
        "outputId": "c513c3e3-131d-4fa7-855a-ce7b3f3718ea"
      },
      "execution_count": 3,
      "outputs": [
        {
          "output_type": "execute_result",
          "data": {
            "text/plain": [
              "         country  beer_servings  spirit_servings  wine_servings  \\\n",
              "0    Afghanistan            0.0              0.0            0.0   \n",
              "1        Albania           89.0            132.0           54.0   \n",
              "2        Algeria           25.0              0.0           14.0   \n",
              "3        Andorra          245.0            138.0          312.0   \n",
              "4         Angola          217.0             57.0           45.0   \n",
              "..           ...            ...              ...            ...   \n",
              "188    Venezuela            NaN            100.0            3.0   \n",
              "189      Vietnam          111.0              2.0            1.0   \n",
              "190        Yemen            6.0              0.0            0.0   \n",
              "191       Zambia           32.0             19.0            4.0   \n",
              "192     Zimbabwe           64.0             18.0            4.0   \n",
              "\n",
              "     total_litres_of_pure_alcohol      continent  \n",
              "0                             0.0           Asia  \n",
              "1                             4.9         Europe  \n",
              "2                             0.7         Africa  \n",
              "3                            12.4         Europe  \n",
              "4                             5.9         Africa  \n",
              "..                            ...            ...  \n",
              "188                           7.7  South America  \n",
              "189                           2.0           Asia  \n",
              "190                           0.1           Asia  \n",
              "191                           2.5         Africa  \n",
              "192                           4.7         Africa  \n",
              "\n",
              "[193 rows x 6 columns]"
            ],
            "text/html": [
              "\n",
              "  <div id=\"df-c7aca2c3-980c-4996-a55c-c09485c39d4a\" class=\"colab-df-container\">\n",
              "    <div>\n",
              "<style scoped>\n",
              "    .dataframe tbody tr th:only-of-type {\n",
              "        vertical-align: middle;\n",
              "    }\n",
              "\n",
              "    .dataframe tbody tr th {\n",
              "        vertical-align: top;\n",
              "    }\n",
              "\n",
              "    .dataframe thead th {\n",
              "        text-align: right;\n",
              "    }\n",
              "</style>\n",
              "<table border=\"1\" class=\"dataframe\">\n",
              "  <thead>\n",
              "    <tr style=\"text-align: right;\">\n",
              "      <th></th>\n",
              "      <th>country</th>\n",
              "      <th>beer_servings</th>\n",
              "      <th>spirit_servings</th>\n",
              "      <th>wine_servings</th>\n",
              "      <th>total_litres_of_pure_alcohol</th>\n",
              "      <th>continent</th>\n",
              "    </tr>\n",
              "  </thead>\n",
              "  <tbody>\n",
              "    <tr>\n",
              "      <th>0</th>\n",
              "      <td>Afghanistan</td>\n",
              "      <td>0.0</td>\n",
              "      <td>0.0</td>\n",
              "      <td>0.0</td>\n",
              "      <td>0.0</td>\n",
              "      <td>Asia</td>\n",
              "    </tr>\n",
              "    <tr>\n",
              "      <th>1</th>\n",
              "      <td>Albania</td>\n",
              "      <td>89.0</td>\n",
              "      <td>132.0</td>\n",
              "      <td>54.0</td>\n",
              "      <td>4.9</td>\n",
              "      <td>Europe</td>\n",
              "    </tr>\n",
              "    <tr>\n",
              "      <th>2</th>\n",
              "      <td>Algeria</td>\n",
              "      <td>25.0</td>\n",
              "      <td>0.0</td>\n",
              "      <td>14.0</td>\n",
              "      <td>0.7</td>\n",
              "      <td>Africa</td>\n",
              "    </tr>\n",
              "    <tr>\n",
              "      <th>3</th>\n",
              "      <td>Andorra</td>\n",
              "      <td>245.0</td>\n",
              "      <td>138.0</td>\n",
              "      <td>312.0</td>\n",
              "      <td>12.4</td>\n",
              "      <td>Europe</td>\n",
              "    </tr>\n",
              "    <tr>\n",
              "      <th>4</th>\n",
              "      <td>Angola</td>\n",
              "      <td>217.0</td>\n",
              "      <td>57.0</td>\n",
              "      <td>45.0</td>\n",
              "      <td>5.9</td>\n",
              "      <td>Africa</td>\n",
              "    </tr>\n",
              "    <tr>\n",
              "      <th>...</th>\n",
              "      <td>...</td>\n",
              "      <td>...</td>\n",
              "      <td>...</td>\n",
              "      <td>...</td>\n",
              "      <td>...</td>\n",
              "      <td>...</td>\n",
              "    </tr>\n",
              "    <tr>\n",
              "      <th>188</th>\n",
              "      <td>Venezuela</td>\n",
              "      <td>NaN</td>\n",
              "      <td>100.0</td>\n",
              "      <td>3.0</td>\n",
              "      <td>7.7</td>\n",
              "      <td>South America</td>\n",
              "    </tr>\n",
              "    <tr>\n",
              "      <th>189</th>\n",
              "      <td>Vietnam</td>\n",
              "      <td>111.0</td>\n",
              "      <td>2.0</td>\n",
              "      <td>1.0</td>\n",
              "      <td>2.0</td>\n",
              "      <td>Asia</td>\n",
              "    </tr>\n",
              "    <tr>\n",
              "      <th>190</th>\n",
              "      <td>Yemen</td>\n",
              "      <td>6.0</td>\n",
              "      <td>0.0</td>\n",
              "      <td>0.0</td>\n",
              "      <td>0.1</td>\n",
              "      <td>Asia</td>\n",
              "    </tr>\n",
              "    <tr>\n",
              "      <th>191</th>\n",
              "      <td>Zambia</td>\n",
              "      <td>32.0</td>\n",
              "      <td>19.0</td>\n",
              "      <td>4.0</td>\n",
              "      <td>2.5</td>\n",
              "      <td>Africa</td>\n",
              "    </tr>\n",
              "    <tr>\n",
              "      <th>192</th>\n",
              "      <td>Zimbabwe</td>\n",
              "      <td>64.0</td>\n",
              "      <td>18.0</td>\n",
              "      <td>4.0</td>\n",
              "      <td>4.7</td>\n",
              "      <td>Africa</td>\n",
              "    </tr>\n",
              "  </tbody>\n",
              "</table>\n",
              "<p>193 rows × 6 columns</p>\n",
              "</div>\n",
              "    <div class=\"colab-df-buttons\">\n",
              "\n",
              "  <div class=\"colab-df-container\">\n",
              "    <button class=\"colab-df-convert\" onclick=\"convertToInteractive('df-c7aca2c3-980c-4996-a55c-c09485c39d4a')\"\n",
              "            title=\"Convert this dataframe to an interactive table.\"\n",
              "            style=\"display:none;\">\n",
              "\n",
              "  <svg xmlns=\"http://www.w3.org/2000/svg\" height=\"24px\" viewBox=\"0 -960 960 960\">\n",
              "    <path d=\"M120-120v-720h720v720H120Zm60-500h600v-160H180v160Zm220 220h160v-160H400v160Zm0 220h160v-160H400v160ZM180-400h160v-160H180v160Zm440 0h160v-160H620v160ZM180-180h160v-160H180v160Zm440 0h160v-160H620v160Z\"/>\n",
              "  </svg>\n",
              "    </button>\n",
              "\n",
              "  <style>\n",
              "    .colab-df-container {\n",
              "      display:flex;\n",
              "      gap: 12px;\n",
              "    }\n",
              "\n",
              "    .colab-df-convert {\n",
              "      background-color: #E8F0FE;\n",
              "      border: none;\n",
              "      border-radius: 50%;\n",
              "      cursor: pointer;\n",
              "      display: none;\n",
              "      fill: #1967D2;\n",
              "      height: 32px;\n",
              "      padding: 0 0 0 0;\n",
              "      width: 32px;\n",
              "    }\n",
              "\n",
              "    .colab-df-convert:hover {\n",
              "      background-color: #E2EBFA;\n",
              "      box-shadow: 0px 1px 2px rgba(60, 64, 67, 0.3), 0px 1px 3px 1px rgba(60, 64, 67, 0.15);\n",
              "      fill: #174EA6;\n",
              "    }\n",
              "\n",
              "    .colab-df-buttons div {\n",
              "      margin-bottom: 4px;\n",
              "    }\n",
              "\n",
              "    [theme=dark] .colab-df-convert {\n",
              "      background-color: #3B4455;\n",
              "      fill: #D2E3FC;\n",
              "    }\n",
              "\n",
              "    [theme=dark] .colab-df-convert:hover {\n",
              "      background-color: #434B5C;\n",
              "      box-shadow: 0px 1px 3px 1px rgba(0, 0, 0, 0.15);\n",
              "      filter: drop-shadow(0px 1px 2px rgba(0, 0, 0, 0.3));\n",
              "      fill: #FFFFFF;\n",
              "    }\n",
              "  </style>\n",
              "\n",
              "    <script>\n",
              "      const buttonEl =\n",
              "        document.querySelector('#df-c7aca2c3-980c-4996-a55c-c09485c39d4a button.colab-df-convert');\n",
              "      buttonEl.style.display =\n",
              "        google.colab.kernel.accessAllowed ? 'block' : 'none';\n",
              "\n",
              "      async function convertToInteractive(key) {\n",
              "        const element = document.querySelector('#df-c7aca2c3-980c-4996-a55c-c09485c39d4a');\n",
              "        const dataTable =\n",
              "          await google.colab.kernel.invokeFunction('convertToInteractive',\n",
              "                                                    [key], {});\n",
              "        if (!dataTable) return;\n",
              "\n",
              "        const docLinkHtml = 'Like what you see? Visit the ' +\n",
              "          '<a target=\"_blank\" href=https://colab.research.google.com/notebooks/data_table.ipynb>data table notebook</a>'\n",
              "          + ' to learn more about interactive tables.';\n",
              "        element.innerHTML = '';\n",
              "        dataTable['output_type'] = 'display_data';\n",
              "        await google.colab.output.renderOutput(dataTable, element);\n",
              "        const docLink = document.createElement('div');\n",
              "        docLink.innerHTML = docLinkHtml;\n",
              "        element.appendChild(docLink);\n",
              "      }\n",
              "    </script>\n",
              "  </div>\n",
              "\n",
              "\n",
              "<div id=\"df-fb7d9b4a-e4d3-44d7-8099-646a4df509b5\">\n",
              "  <button class=\"colab-df-quickchart\" onclick=\"quickchart('df-fb7d9b4a-e4d3-44d7-8099-646a4df509b5')\"\n",
              "            title=\"Suggest charts\"\n",
              "            style=\"display:none;\">\n",
              "\n",
              "<svg xmlns=\"http://www.w3.org/2000/svg\" height=\"24px\"viewBox=\"0 0 24 24\"\n",
              "     width=\"24px\">\n",
              "    <g>\n",
              "        <path d=\"M19 3H5c-1.1 0-2 .9-2 2v14c0 1.1.9 2 2 2h14c1.1 0 2-.9 2-2V5c0-1.1-.9-2-2-2zM9 17H7v-7h2v7zm4 0h-2V7h2v10zm4 0h-2v-4h2v4z\"/>\n",
              "    </g>\n",
              "</svg>\n",
              "  </button>\n",
              "\n",
              "<style>\n",
              "  .colab-df-quickchart {\n",
              "      --bg-color: #E8F0FE;\n",
              "      --fill-color: #1967D2;\n",
              "      --hover-bg-color: #E2EBFA;\n",
              "      --hover-fill-color: #174EA6;\n",
              "      --disabled-fill-color: #AAA;\n",
              "      --disabled-bg-color: #DDD;\n",
              "  }\n",
              "\n",
              "  [theme=dark] .colab-df-quickchart {\n",
              "      --bg-color: #3B4455;\n",
              "      --fill-color: #D2E3FC;\n",
              "      --hover-bg-color: #434B5C;\n",
              "      --hover-fill-color: #FFFFFF;\n",
              "      --disabled-bg-color: #3B4455;\n",
              "      --disabled-fill-color: #666;\n",
              "  }\n",
              "\n",
              "  .colab-df-quickchart {\n",
              "    background-color: var(--bg-color);\n",
              "    border: none;\n",
              "    border-radius: 50%;\n",
              "    cursor: pointer;\n",
              "    display: none;\n",
              "    fill: var(--fill-color);\n",
              "    height: 32px;\n",
              "    padding: 0;\n",
              "    width: 32px;\n",
              "  }\n",
              "\n",
              "  .colab-df-quickchart:hover {\n",
              "    background-color: var(--hover-bg-color);\n",
              "    box-shadow: 0 1px 2px rgba(60, 64, 67, 0.3), 0 1px 3px 1px rgba(60, 64, 67, 0.15);\n",
              "    fill: var(--button-hover-fill-color);\n",
              "  }\n",
              "\n",
              "  .colab-df-quickchart-complete:disabled,\n",
              "  .colab-df-quickchart-complete:disabled:hover {\n",
              "    background-color: var(--disabled-bg-color);\n",
              "    fill: var(--disabled-fill-color);\n",
              "    box-shadow: none;\n",
              "  }\n",
              "\n",
              "  .colab-df-spinner {\n",
              "    border: 2px solid var(--fill-color);\n",
              "    border-color: transparent;\n",
              "    border-bottom-color: var(--fill-color);\n",
              "    animation:\n",
              "      spin 1s steps(1) infinite;\n",
              "  }\n",
              "\n",
              "  @keyframes spin {\n",
              "    0% {\n",
              "      border-color: transparent;\n",
              "      border-bottom-color: var(--fill-color);\n",
              "      border-left-color: var(--fill-color);\n",
              "    }\n",
              "    20% {\n",
              "      border-color: transparent;\n",
              "      border-left-color: var(--fill-color);\n",
              "      border-top-color: var(--fill-color);\n",
              "    }\n",
              "    30% {\n",
              "      border-color: transparent;\n",
              "      border-left-color: var(--fill-color);\n",
              "      border-top-color: var(--fill-color);\n",
              "      border-right-color: var(--fill-color);\n",
              "    }\n",
              "    40% {\n",
              "      border-color: transparent;\n",
              "      border-right-color: var(--fill-color);\n",
              "      border-top-color: var(--fill-color);\n",
              "    }\n",
              "    60% {\n",
              "      border-color: transparent;\n",
              "      border-right-color: var(--fill-color);\n",
              "    }\n",
              "    80% {\n",
              "      border-color: transparent;\n",
              "      border-right-color: var(--fill-color);\n",
              "      border-bottom-color: var(--fill-color);\n",
              "    }\n",
              "    90% {\n",
              "      border-color: transparent;\n",
              "      border-bottom-color: var(--fill-color);\n",
              "    }\n",
              "  }\n",
              "</style>\n",
              "\n",
              "  <script>\n",
              "    async function quickchart(key) {\n",
              "      const quickchartButtonEl =\n",
              "        document.querySelector('#' + key + ' button');\n",
              "      quickchartButtonEl.disabled = true;  // To prevent multiple clicks.\n",
              "      quickchartButtonEl.classList.add('colab-df-spinner');\n",
              "      try {\n",
              "        const charts = await google.colab.kernel.invokeFunction(\n",
              "            'suggestCharts', [key], {});\n",
              "      } catch (error) {\n",
              "        console.error('Error during call to suggestCharts:', error);\n",
              "      }\n",
              "      quickchartButtonEl.classList.remove('colab-df-spinner');\n",
              "      quickchartButtonEl.classList.add('colab-df-quickchart-complete');\n",
              "    }\n",
              "    (() => {\n",
              "      let quickchartButtonEl =\n",
              "        document.querySelector('#df-fb7d9b4a-e4d3-44d7-8099-646a4df509b5 button');\n",
              "      quickchartButtonEl.style.display =\n",
              "        google.colab.kernel.accessAllowed ? 'block' : 'none';\n",
              "    })();\n",
              "  </script>\n",
              "</div>\n",
              "\n",
              "  <div id=\"id_4f59c0fc-f78a-4ed3-94d1-d34d0b22bfea\">\n",
              "    <style>\n",
              "      .colab-df-generate {\n",
              "        background-color: #E8F0FE;\n",
              "        border: none;\n",
              "        border-radius: 50%;\n",
              "        cursor: pointer;\n",
              "        display: none;\n",
              "        fill: #1967D2;\n",
              "        height: 32px;\n",
              "        padding: 0 0 0 0;\n",
              "        width: 32px;\n",
              "      }\n",
              "\n",
              "      .colab-df-generate:hover {\n",
              "        background-color: #E2EBFA;\n",
              "        box-shadow: 0px 1px 2px rgba(60, 64, 67, 0.3), 0px 1px 3px 1px rgba(60, 64, 67, 0.15);\n",
              "        fill: #174EA6;\n",
              "      }\n",
              "\n",
              "      [theme=dark] .colab-df-generate {\n",
              "        background-color: #3B4455;\n",
              "        fill: #D2E3FC;\n",
              "      }\n",
              "\n",
              "      [theme=dark] .colab-df-generate:hover {\n",
              "        background-color: #434B5C;\n",
              "        box-shadow: 0px 1px 3px 1px rgba(0, 0, 0, 0.15);\n",
              "        filter: drop-shadow(0px 1px 2px rgba(0, 0, 0, 0.3));\n",
              "        fill: #FFFFFF;\n",
              "      }\n",
              "    </style>\n",
              "    <button class=\"colab-df-generate\" onclick=\"generateWithVariable('data')\"\n",
              "            title=\"Generate code using this dataframe.\"\n",
              "            style=\"display:none;\">\n",
              "\n",
              "  <svg xmlns=\"http://www.w3.org/2000/svg\" height=\"24px\"viewBox=\"0 0 24 24\"\n",
              "       width=\"24px\">\n",
              "    <path d=\"M7,19H8.4L18.45,9,17,7.55,7,17.6ZM5,21V16.75L18.45,3.32a2,2,0,0,1,2.83,0l1.4,1.43a1.91,1.91,0,0,1,.58,1.4,1.91,1.91,0,0,1-.58,1.4L9.25,21ZM18.45,9,17,7.55Zm-12,3A5.31,5.31,0,0,0,4.9,8.1,5.31,5.31,0,0,0,1,6.5,5.31,5.31,0,0,0,4.9,4.9,5.31,5.31,0,0,0,6.5,1,5.31,5.31,0,0,0,8.1,4.9,5.31,5.31,0,0,0,12,6.5,5.46,5.46,0,0,0,6.5,12Z\"/>\n",
              "  </svg>\n",
              "    </button>\n",
              "    <script>\n",
              "      (() => {\n",
              "      const buttonEl =\n",
              "        document.querySelector('#id_4f59c0fc-f78a-4ed3-94d1-d34d0b22bfea button.colab-df-generate');\n",
              "      buttonEl.style.display =\n",
              "        google.colab.kernel.accessAllowed ? 'block' : 'none';\n",
              "\n",
              "      buttonEl.onclick = () => {\n",
              "        google.colab.notebook.generateWithVariable('data');\n",
              "      }\n",
              "      })();\n",
              "    </script>\n",
              "  </div>\n",
              "\n",
              "    </div>\n",
              "  </div>\n"
            ],
            "application/vnd.google.colaboratory.intrinsic+json": {
              "type": "dataframe",
              "variable_name": "data",
              "summary": "{\n  \"name\": \"data\",\n  \"rows\": 193,\n  \"fields\": [\n    {\n      \"column\": \"country\",\n      \"properties\": {\n        \"dtype\": \"string\",\n        \"num_unique_values\": 193,\n        \"samples\": [\n          \"Czech Republic\",\n          \"Qatar\",\n          \"Iceland\"\n        ],\n        \"semantic_type\": \"\",\n        \"description\": \"\"\n      }\n    },\n    {\n      \"column\": \"beer_servings\",\n      \"properties\": {\n        \"dtype\": \"number\",\n        \"std\": 100.52471415085762,\n        \"min\": 0.0,\n        \"max\": 376.0,\n        \"num_unique_values\": 126,\n        \"samples\": [\n          98.0,\n          173.0,\n          36.0\n        ],\n        \"semantic_type\": \"\",\n        \"description\": \"\"\n      }\n    },\n    {\n      \"column\": \"spirit_servings\",\n      \"properties\": {\n        \"dtype\": \"number\",\n        \"std\": 89.14295777720804,\n        \"min\": 0.0,\n        \"max\": 438.0,\n        \"num_unique_values\": 106,\n        \"samples\": [\n          237.0,\n          176.0,\n          128.0\n        ],\n        \"semantic_type\": \"\",\n        \"description\": \"\"\n      }\n    },\n    {\n      \"column\": \"wine_servings\",\n      \"properties\": {\n        \"dtype\": \"number\",\n        \"std\": 80.35886783413324,\n        \"min\": 0.0,\n        \"max\": 370.0,\n        \"num_unique_values\": 78,\n        \"samples\": [\n          59.0,\n          0.0,\n          97.0\n        ],\n        \"semantic_type\": \"\",\n        \"description\": \"\"\n      }\n    },\n    {\n      \"column\": \"total_litres_of_pure_alcohol\",\n      \"properties\": {\n        \"dtype\": \"number\",\n        \"std\": 3.7676541972542092,\n        \"min\": 0.0,\n        \"max\": 14.4,\n        \"num_unique_values\": 90,\n        \"samples\": [\n          0.5,\n          4.3,\n          1.9\n        ],\n        \"semantic_type\": \"\",\n        \"description\": \"\"\n      }\n    },\n    {\n      \"column\": \"continent\",\n      \"properties\": {\n        \"dtype\": \"category\",\n        \"num_unique_values\": 6,\n        \"samples\": [\n          \"Asia\",\n          \"Europe\",\n          \"Oceania\"\n        ],\n        \"semantic_type\": \"\",\n        \"description\": \"\"\n      }\n    }\n  ]\n}"
            }
          },
          "metadata": {},
          "execution_count": 3
        }
      ]
    },
    {
      "cell_type": "code",
      "source": [
        "\n",
        "\n",
        "data['wine_servings']=data['wine_servings'].fillna(data['wine_servings'].median())\n"
      ],
      "metadata": {
        "id": "dortTflfwlyo"
      },
      "execution_count": 4,
      "outputs": []
    },
    {
      "cell_type": "code",
      "source": [
        "data.isna().sum()"
      ],
      "metadata": {
        "colab": {
          "base_uri": "https://localhost:8080/"
        },
        "id": "AemSV7Qzw_aB",
        "outputId": "899c2137-6152-462a-8009-9121b3a0585f"
      },
      "execution_count": null,
      "outputs": [
        {
          "output_type": "execute_result",
          "data": {
            "text/plain": [
              "country                         0\n",
              "beer_servings                   0\n",
              "spirit_servings                 0\n",
              "wine_servings                   0\n",
              "total_litres_of_pure_alcohol    0\n",
              "continent                       0\n",
              "dtype: int64"
            ]
          },
          "metadata": {},
          "execution_count": 17
        }
      ]
    },
    {
      "cell_type": "code",
      "source": [
        "plt.boxplot(data['wine_servings'])"
      ],
      "metadata": {
        "colab": {
          "base_uri": "https://localhost:8080/",
          "height": 575
        },
        "id": "cw4bwY90xHF_",
        "outputId": "329227d6-1950-48e3-fd0c-9900e6ff96c9"
      },
      "execution_count": 5,
      "outputs": [
        {
          "output_type": "execute_result",
          "data": {
            "text/plain": [
              "{'whiskers': [<matplotlib.lines.Line2D at 0x7acd38ece8f0>,\n",
              "  <matplotlib.lines.Line2D at 0x7acd38eceb90>],\n",
              " 'caps': [<matplotlib.lines.Line2D at 0x7acd38ecee30>,\n",
              "  <matplotlib.lines.Line2D at 0x7acd38ecf0d0>],\n",
              " 'boxes': [<matplotlib.lines.Line2D at 0x7acd38ece6e0>],\n",
              " 'medians': [<matplotlib.lines.Line2D at 0x7acd38ecf370>],\n",
              " 'fliers': [<matplotlib.lines.Line2D at 0x7acd38ecf610>],\n",
              " 'means': []}"
            ]
          },
          "metadata": {},
          "execution_count": 5
        },
        {
          "output_type": "display_data",
          "data": {
            "text/plain": [
              "<Figure size 640x480 with 1 Axes>"
            ],
            "image/png": "[encoded data removed]"
          },
          "metadata": {}
        }
      ]
    },
    {
      "cell_type": "code",
      "source": [
        "Q1=np.percentile(data['wine_servings'],25,method='midpoint')\n",
        "Q2=np.percentile(data['wine_servings'],50,method='midpoint')\n",
        "Q3=np.percentile(data['wine_servings'],75,method='midpoint')"
      ],
      "metadata": {
        "id": "kgsNJ-OJtQev"
      },
      "execution_count": 6,
      "outputs": []
    },
    {
      "cell_type": "code",
      "source": [
        "print(\" Q1 is \",Q1)\n",
        "print(\" Q2 is \",Q2)\n",
        "\n",
        "print(\" Q3 is \",Q3)\n"
      ],
      "metadata": {
        "colab": {
          "base_uri": "https://localhost:8080/"
        },
        "id": "GffEnag-vSTU",
        "outputId": "9e69bf07-195f-4b0c-f107-fad7f7b95e25"
      },
      "execution_count": 7,
      "outputs": [
        {
          "output_type": "stream",
          "name": "stdout",
          "text": [
            " Q1 is  1.0\n",
            " Q2 is  9.0\n",
            " Q3 is  59.0\n"
          ]
        }
      ]
    },
    {
      "cell_type": "code",
      "source": [
        "IQR= Q3-Q1\n",
        "IQR\n"
      ],
      "metadata": {
        "colab": {
          "base_uri": "https://localhost:8080/"
        },
        "id": "PVA2Cm1exoAx",
        "outputId": "b74173d1-6ac9-45d2-ba6a-c2b1c14fd704"
      },
      "execution_count": 8,
      "outputs": [
        {
          "output_type": "execute_result",
          "data": {
            "text/plain": [
              "58.0"
            ]
          },
          "metadata": {},
          "execution_count": 8
        }
      ]
    },
    {
      "cell_type": "code",
      "source": [
        "low_lim=Q1-1.5*IQR\n",
        "up_lim=Q3+1.5*IQR\n",
        "\n",
        "print(\"Lower Limit \", low_lim)\n",
        "print(\"Upper Limit\", up_lim)\n"
      ],
      "metadata": {
        "colab": {
          "base_uri": "https://localhost:8080/"
        },
        "id": "qo2eVZyXyAso",
        "outputId": "e94d602e-4a92-4830-e286-2041e6e0b31b"
      },
      "execution_count": 9,
      "outputs": [
        {
          "output_type": "stream",
          "name": "stdout",
          "text": [
            "Lower Limit  -86.0\n",
            "Upper Limit 146.0\n"
          ]
        }
      ]
    },
    {
      "cell_type": "code",
      "source": [
        "outlier=[]\n",
        "for x in data['wine_servings']:\n",
        "  if(x>up_lim) or (x<low_lim):\n",
        "    outlier.append(x)\n",
        "\n",
        "outlier"
      ],
      "metadata": {
        "colab": {
          "base_uri": "https://localhost:8080/"
        },
        "id": "wAtFd0mCzMfJ",
        "outputId": "2567273d-14c8-4115-b496-648246b849de"
      },
      "execution_count": 10,
      "outputs": [
        {
          "output_type": "execute_result",
          "data": {
            "text/plain": [
              "[312.0,\n",
              " 221.0,\n",
              " 212.0,\n",
              " 191.0,\n",
              " 212.0,\n",
              " 172.0,\n",
              " 254.0,\n",
              " 278.0,\n",
              " 233.0,\n",
              " 370.0,\n",
              " 149.0,\n",
              " 175.0,\n",
              " 218.0,\n",
              " 185.0,\n",
              " 165.0,\n",
              " 237.0,\n",
              " 271.0,\n",
              " 190.0,\n",
              " 175.0,\n",
              " 339.0,\n",
              " 167.0,\n",
              " 276.0,\n",
              " 186.0,\n",
              " 280.0,\n",
              " 195.0,\n",
              " 220.0]"
            ]
          },
          "metadata": {},
          "execution_count": 10
        }
      ]
    },
    {
      "cell_type": "code",
      "source": [
        "data['wine_servings']=data['wine_servings'].clip(lower=low_lim,upper=up_lim)"
      ],
      "metadata": {
        "id": "X3ZGm9KMzWLX"
      },
      "execution_count": 11,
      "outputs": []
    },
    {
      "cell_type": "code",
      "source": [
        "outlier=[]\n",
        "for x in data['wine_servings']:\n",
        "  if(x>up_lim) or (x<low_lim):\n",
        "    outlier.append(x)\n",
        "\n",
        "outlier"
      ],
      "metadata": {
        "colab": {
          "base_uri": "https://localhost:8080/"
        },
        "id": "RgSjkH1vzcYm",
        "outputId": "ac66c85b-035a-4713-9a5b-49aab73cc5e6"
      },
      "execution_count": 12,
      "outputs": [
        {
          "output_type": "execute_result",
          "data": {
            "text/plain": [
              "[]"
            ]
          },
          "metadata": {},
          "execution_count": 12
        }
      ]
    },
    {
      "cell_type": "code",
      "source": [
        "plt.boxplot(data['wine_servings'])\n"
      ],
      "metadata": {
        "colab": {
          "base_uri": "https://localhost:8080/",
          "height": 575
        },
        "id": "YpmhTzv3zjq5",
        "outputId": "61fc54bc-2b37-4225-c0e0-f8a4d144f0f5"
      },
      "execution_count": 13,
      "outputs": [
        {
          "output_type": "execute_result",
          "data": {
            "text/plain": [
              "{'whiskers': [<matplotlib.lines.Line2D at 0x7acd38df9c90>,\n",
              "  <matplotlib.lines.Line2D at 0x7acd38dfb2e0>],\n",
              " 'caps': [<matplotlib.lines.Line2D at 0x7acd38dfb580>,\n",
              "  <matplotlib.lines.Line2D at 0x7acd38dfb820>],\n",
              " 'boxes': [<matplotlib.lines.Line2D at 0x7acd38dfaec0>],\n",
              " 'medians': [<matplotlib.lines.Line2D at 0x7acd38dfbac0>],\n",
              " 'fliers': [<matplotlib.lines.Line2D at 0x7acd38dfbd60>],\n",
              " 'means': []}"
            ]
          },
          "metadata": {},
          "execution_count": 13
        },
        {
          "output_type": "display_data",
          "data": {
            "text/plain": [
              "<Figure size 640x480 with 1 Axes>"
            ],
            "image/png": "[encoded data removed]"
          },
          "metadata": {}
        }
      ]
    },
    {
      "cell_type": "code",
      "source": [
        "#### how to handle outliers using z score\n",
        "\n",
        "data1=pd.read_csv(\"/content/beer-servings.csv\",index_col='Unnamed: 0')\n",
        "data1\n"
      ],
      "metadata": {
        "colab": {
          "base_uri": "https://localhost:8080/",
          "height": 423
        },
        "id": "TbHciFKIChRI",
        "outputId": "f554ec76-e091-4661-da46-5ee926a62716"
      },
      "execution_count": 25,
      "outputs": [
        {
          "output_type": "execute_result",
          "data": {
            "text/plain": [
              "         country  beer_servings  spirit_servings  wine_servings  \\\n",
              "0    Afghanistan            0.0              0.0            0.0   \n",
              "1        Albania           89.0            132.0           54.0   \n",
              "2        Algeria           25.0              0.0           14.0   \n",
              "3        Andorra          245.0            138.0          312.0   \n",
              "4         Angola          217.0             57.0           45.0   \n",
              "..           ...            ...              ...            ...   \n",
              "188    Venezuela            NaN            100.0            3.0   \n",
              "189      Vietnam          111.0              2.0            1.0   \n",
              "190        Yemen            6.0              0.0            0.0   \n",
              "191       Zambia           32.0             19.0            4.0   \n",
              "192     Zimbabwe           64.0             18.0            4.0   \n",
              "\n",
              "     total_litres_of_pure_alcohol      continent  \n",
              "0                             0.0           Asia  \n",
              "1                             4.9         Europe  \n",
              "2                             0.7         Africa  \n",
              "3                            12.4         Europe  \n",
              "4                             5.9         Africa  \n",
              "..                            ...            ...  \n",
              "188                           7.7  South America  \n",
              "189                           2.0           Asia  \n",
              "190                           0.1           Asia  \n",
              "191                           2.5         Africa  \n",
              "192                           4.7         Africa  \n",
              "\n",
              "[193 rows x 6 columns]"
            ],
            "text/html": [
              "\n",
              "  <div id=\"df-6b60ad4e-dcc5-4a51-85b0-82b44586c306\" class=\"colab-df-container\">\n",
              "    <div>\n",
              "<style scoped>\n",
              "    .dataframe tbody tr th:only-of-type {\n",
              "        vertical-align: middle;\n",
              "    }\n",
              "\n",
              "    .dataframe tbody tr th {\n",
              "        vertical-align: top;\n",
              "    }\n",
              "\n",
              "    .dataframe thead th {\n",
              "        text-align: right;\n",
              "    }\n",
              "</style>\n",
              "<table border=\"1\" class=\"dataframe\">\n",
              "  <thead>\n",
              "    <tr style=\"text-align: right;\">\n",
              "      <th></th>\n",
              "      <th>country</th>\n",
              "      <th>beer_servings</th>\n",
              "      <th>spirit_servings</th>\n",
              "      <th>wine_servings</th>\n",
              "      <th>total_litres_of_pure_alcohol</th>\n",
              "      <th>continent</th>\n",
              "    </tr>\n",
              "  </thead>\n",
              "  <tbody>\n",
              "    <tr>\n",
              "      <th>0</th>\n",
              "      <td>Afghanistan</td>\n",
              "      <td>0.0</td>\n",
              "      <td>0.0</td>\n",
              "      <td>0.0</td>\n",
              "      <td>0.0</td>\n",
              "      <td>Asia</td>\n",
              "    </tr>\n",
              "    <tr>\n",
              "      <th>1</th>\n",
              "      <td>Albania</td>\n",
              "      <td>89.0</td>\n",
              "      <td>132.0</td>\n",
              "      <td>54.0</td>\n",
              "      <td>4.9</td>\n",
              "      <td>Europe</td>\n",
              "    </tr>\n",
              "    <tr>\n",
              "      <th>2</th>\n",
              "      <td>Algeria</td>\n",
              "      <td>25.0</td>\n",
              "      <td>0.0</td>\n",
              "      <td>14.0</td>\n",
              "      <td>0.7</td>\n",
              "      <td>Africa</td>\n",
              "    </tr>\n",
              "    <tr>\n",
              "      <th>3</th>\n",
              "      <td>Andorra</td>\n",
              "      <td>245.0</td>\n",
              "      <td>138.0</td>\n",
              "      <td>312.0</td>\n",
              "      <td>12.4</td>\n",
              "      <td>Europe</td>\n",
              "    </tr>\n",
              "    <tr>\n",
              "      <th>4</th>\n",
              "      <td>Angola</td>\n",
              "      <td>217.0</td>\n",
              "      <td>57.0</td>\n",
              "      <td>45.0</td>\n",
              "      <td>5.9</td>\n",
              "      <td>Africa</td>\n",
              "    </tr>\n",
              "    <tr>\n",
              "      <th>...</th>\n",
              "      <td>...</td>\n",
              "      <td>...</td>\n",
              "      <td>...</td>\n",
              "      <td>...</td>\n",
              "      <td>...</td>\n",
              "      <td>...</td>\n",
              "    </tr>\n",
              "    <tr>\n",
              "      <th>188</th>\n",
              "      <td>Venezuela</td>\n",
              "      <td>NaN</td>\n",
              "      <td>100.0</td>\n",
              "      <td>3.0</td>\n",
              "      <td>7.7</td>\n",
              "      <td>South America</td>\n",
              "    </tr>\n",
              "    <tr>\n",
              "      <th>189</th>\n",
              "      <td>Vietnam</td>\n",
              "      <td>111.0</td>\n",
              "      <td>2.0</td>\n",
              "      <td>1.0</td>\n",
              "      <td>2.0</td>\n",
              "      <td>Asia</td>\n",
              "    </tr>\n",
              "    <tr>\n",
              "      <th>190</th>\n",
              "      <td>Yemen</td>\n",
              "      <td>6.0</td>\n",
              "      <td>0.0</td>\n",
              "      <td>0.0</td>\n",
              "      <td>0.1</td>\n",
              "      <td>Asia</td>\n",
              "    </tr>\n",
              "    <tr>\n",
              "      <th>191</th>\n",
              "      <td>Zambia</td>\n",
              "      <td>32.0</td>\n",
              "      <td>19.0</td>\n",
              "      <td>4.0</td>\n",
              "      <td>2.5</td>\n",
              "      <td>Africa</td>\n",
              "    </tr>\n",
              "    <tr>\n",
              "      <th>192</th>\n",
              "      <td>Zimbabwe</td>\n",
              "      <td>64.0</td>\n",
              "      <td>18.0</td>\n",
              "      <td>4.0</td>\n",
              "      <td>4.7</td>\n",
              "      <td>Africa</td>\n",
              "    </tr>\n",
              "  </tbody>\n",
              "</table>\n",
              "<p>193 rows × 6 columns</p>\n",
              "</div>\n",
              "    <div class=\"colab-df-buttons\">\n",
              "\n",
              "  <div class=\"colab-df-container\">\n",
              "    <button class=\"colab-df-convert\" onclick=\"convertToInteractive('df-6b60ad4e-dcc5-4a51-85b0-82b44586c306')\"\n",
              "            title=\"Convert this dataframe to an interactive table.\"\n",
              "            style=\"display:none;\">\n",
              "\n",
              "  <svg xmlns=\"http://www.w3.org/2000/svg\" height=\"24px\" viewBox=\"0 -960 960 960\">\n",
              "    <path d=\"M120-120v-720h720v720H120Zm60-500h600v-160H180v160Zm220 220h160v-160H400v160Zm0 220h160v-160H400v160ZM180-400h160v-160H180v160Zm440 0h160v-160H620v160ZM180-180h160v-160H180v160Zm440 0h160v-160H620v160Z\"/>\n",
              "  </svg>\n",
              "    </button>\n",
              "\n",
              "  <style>\n",
              "    .colab-df-container {\n",
              "      display:flex;\n",
              "      gap: 12px;\n",
              "    }\n",
              "\n",
              "    .colab-df-convert {\n",
              "      background-color: #E8F0FE;\n",
              "      border: none;\n",
              "      border-radius: 50%;\n",
              "      cursor: pointer;\n",
              "      display: none;\n",
              "      fill: #1967D2;\n",
              "      height: 32px;\n",
              "      padding: 0 0 0 0;\n",
              "      width: 32px;\n",
              "    }\n",
              "\n",
              "    .colab-df-convert:hover {\n",
              "      background-color: #E2EBFA;\n",
              "      box-shadow: 0px 1px 2px rgba(60, 64, 67, 0.3), 0px 1px 3px 1px rgba(60, 64, 67, 0.15);\n",
              "      fill: #174EA6;\n",
              "    }\n",
              "\n",
              "    .colab-df-buttons div {\n",
              "      margin-bottom: 4px;\n",
              "    }\n",
              "\n",
              "    [theme=dark] .colab-df-convert {\n",
              "      background-color: #3B4455;\n",
              "      fill: #D2E3FC;\n",
              "    }\n",
              "\n",
              "    [theme=dark] .colab-df-convert:hover {\n",
              "      background-color: #434B5C;\n",
              "      box-shadow: 0px 1px 3px 1px rgba(0, 0, 0, 0.15);\n",
              "      filter: drop-shadow(0px 1px 2px rgba(0, 0, 0, 0.3));\n",
              "      fill: #FFFFFF;\n",
              "    }\n",
              "  </style>\n",
              "\n",
              "    <script>\n",
              "      const buttonEl =\n",
              "        document.querySelector('#df-6b60ad4e-dcc5-4a51-85b0-82b44586c306 button.colab-df-convert');\n",
              "      buttonEl.style.display =\n",
              "        google.colab.kernel.accessAllowed ? 'block' : 'none';\n",
              "\n",
              "      async function convertToInteractive(key) {\n",
              "        const element = document.querySelector('#df-6b60ad4e-dcc5-4a51-85b0-82b44586c306');\n",
              "        const dataTable =\n",
              "          await google.colab.kernel.invokeFunction('convertToInteractive',\n",
              "                                                    [key], {});\n",
              "        if (!dataTable) return;\n",
              "\n",
              "        const docLinkHtml = 'Like what you see? Visit the ' +\n",
              "          '<a target=\"_blank\" href=https://colab.research.google.com/notebooks/data_table.ipynb>data table notebook</a>'\n",
              "          + ' to learn more about interactive tables.';\n",
              "        element.innerHTML = '';\n",
              "        dataTable['output_type'] = 'display_data';\n",
              "        await google.colab.output.renderOutput(dataTable, element);\n",
              "        const docLink = document.createElement('div');\n",
              "        docLink.innerHTML = docLinkHtml;\n",
              "        element.appendChild(docLink);\n",
              "      }\n",
              "    </script>\n",
              "  </div>\n",
              "\n",
              "\n",
              "<div id=\"df-2f1486b3-9c4c-4aa6-a55a-39dd1444031e\">\n",
              "  <button class=\"colab-df-quickchart\" onclick=\"quickchart('df-2f1486b3-9c4c-4aa6-a55a-39dd1444031e')\"\n",
              "            title=\"Suggest charts\"\n",
              "            style=\"display:none;\">\n",
              "\n",
              "<svg xmlns=\"http://www.w3.org/2000/svg\" height=\"24px\"viewBox=\"0 0 24 24\"\n",
              "     width=\"24px\">\n",
              "    <g>\n",
              "        <path d=\"M19 3H5c-1.1 0-2 .9-2 2v14c0 1.1.9 2 2 2h14c1.1 0 2-.9 2-2V5c0-1.1-.9-2-2-2zM9 17H7v-7h2v7zm4 0h-2V7h2v10zm4 0h-2v-4h2v4z\"/>\n",
              "    </g>\n",
              "</svg>\n",
              "  </button>\n",
              "\n",
              "<style>\n",
              "  .colab-df-quickchart {\n",
              "      --bg-color: #E8F0FE;\n",
              "      --fill-color: #1967D2;\n",
              "      --hover-bg-color: #E2EBFA;\n",
              "      --hover-fill-color: #174EA6;\n",
              "      --disabled-fill-color: #AAA;\n",
              "      --disabled-bg-color: #DDD;\n",
              "  }\n",
              "\n",
              "  [theme=dark] .colab-df-quickchart {\n",
              "      --bg-color: #3B4455;\n",
              "      --fill-color: #D2E3FC;\n",
              "      --hover-bg-color: #434B5C;\n",
              "      --hover-fill-color: #FFFFFF;\n",
              "      --disabled-bg-color: #3B4455;\n",
              "      --disabled-fill-color: #666;\n",
              "  }\n",
              "\n",
              "  .colab-df-quickchart {\n",
              "    background-color: var(--bg-color);\n",
              "    border: none;\n",
              "    border-radius: 50%;\n",
              "    cursor: pointer;\n",
              "    display: none;\n",
              "    fill: var(--fill-color);\n",
              "    height: 32px;\n",
              "    padding: 0;\n",
              "    width: 32px;\n",
              "  }\n",
              "\n",
              "  .colab-df-quickchart:hover {\n",
              "    background-color: var(--hover-bg-color);\n",
              "    box-shadow: 0 1px 2px rgba(60, 64, 67, 0.3), 0 1px 3px 1px rgba(60, 64, 67, 0.15);\n",
              "    fill: var(--button-hover-fill-color);\n",
              "  }\n",
              "\n",
              "  .colab-df-quickchart-complete:disabled,\n",
              "  .colab-df-quickchart-complete:disabled:hover {\n",
              "    background-color: var(--disabled-bg-color);\n",
              "    fill: var(--disabled-fill-color);\n",
              "    box-shadow: none;\n",
              "  }\n",
              "\n",
              "  .colab-df-spinner {\n",
              "    border: 2px solid var(--fill-color);\n",
              "    border-color: transparent;\n",
              "    border-bottom-color: var(--fill-color);\n",
              "    animation:\n",
              "      spin 1s steps(1) infinite;\n",
              "  }\n",
              "\n",
              "  @keyframes spin {\n",
              "    0% {\n",
              "      border-color: transparent;\n",
              "      border-bottom-color: var(--fill-color);\n",
              "      border-left-color: var(--fill-color);\n",
              "    }\n",
              "    20% {\n",
              "      border-color: transparent;\n",
              "      border-left-color: var(--fill-color);\n",
              "      border-top-color: var(--fill-color);\n",
              "    }\n",
              "    30% {\n",
              "      border-color: transparent;\n",
              "      border-left-color: var(--fill-color);\n",
              "      border-top-color: var(--fill-color);\n",
              "      border-right-color: var(--fill-color);\n",
              "    }\n",
              "    40% {\n",
              "      border-color: transparent;\n",
              "      border-right-color: var(--fill-color);\n",
              "      border-top-color: var(--fill-color);\n",
              "    }\n",
              "    60% {\n",
              "      border-color: transparent;\n",
              "      border-right-color: var(--fill-color);\n",
              "    }\n",
              "    80% {\n",
              "      border-color: transparent;\n",
              "      border-right-color: var(--fill-color);\n",
              "      border-bottom-color: var(--fill-color);\n",
              "    }\n",
              "    90% {\n",
              "      border-color: transparent;\n",
              "      border-bottom-color: var(--fill-color);\n",
              "    }\n",
              "  }\n",
              "</style>\n",
              "\n",
              "  <script>\n",
              "    async function quickchart(key) {\n",
              "      const quickchartButtonEl =\n",
              "        document.querySelector('#' + key + ' button');\n",
              "      quickchartButtonEl.disabled = true;  // To prevent multiple clicks.\n",
              "      quickchartButtonEl.classList.add('colab-df-spinner');\n",
              "      try {\n",
              "        const charts = await google.colab.kernel.invokeFunction(\n",
              "            'suggestCharts', [key], {});\n",
              "      } catch (error) {\n",
              "        console.error('Error during call to suggestCharts:', error);\n",
              "      }\n",
              "      quickchartButtonEl.classList.remove('colab-df-spinner');\n",
              "      quickchartButtonEl.classList.add('colab-df-quickchart-complete');\n",
              "    }\n",
              "    (() => {\n",
              "      let quickchartButtonEl =\n",
              "        document.querySelector('#df-2f1486b3-9c4c-4aa6-a55a-39dd1444031e button');\n",
              "      quickchartButtonEl.style.display =\n",
              "        google.colab.kernel.accessAllowed ? 'block' : 'none';\n",
              "    })();\n",
              "  </script>\n",
              "</div>\n",
              "\n",
              "  <div id=\"id_7ad03ecb-927a-424e-adcb-58b8db08b28a\">\n",
              "    <style>\n",
              "      .colab-df-generate {\n",
              "        background-color: #E8F0FE;\n",
              "        border: none;\n",
              "        border-radius: 50%;\n",
              "        cursor: pointer;\n",
              "        display: none;\n",
              "        fill: #1967D2;\n",
              "        height: 32px;\n",
              "        padding: 0 0 0 0;\n",
              "        width: 32px;\n",
              "      }\n",
              "\n",
              "      .colab-df-generate:hover {\n",
              "        background-color: #E2EBFA;\n",
              "        box-shadow: 0px 1px 2px rgba(60, 64, 67, 0.3), 0px 1px 3px 1px rgba(60, 64, 67, 0.15);\n",
              "        fill: #174EA6;\n",
              "      }\n",
              "\n",
              "      [theme=dark] .colab-df-generate {\n",
              "        background-color: #3B4455;\n",
              "        fill: #D2E3FC;\n",
              "      }\n",
              "\n",
              "      [theme=dark] .colab-df-generate:hover {\n",
              "        background-color: #434B5C;\n",
              "        box-shadow: 0px 1px 3px 1px rgba(0, 0, 0, 0.15);\n",
              "        filter: drop-shadow(0px 1px 2px rgba(0, 0, 0, 0.3));\n",
              "        fill: #FFFFFF;\n",
              "      }\n",
              "    </style>\n",
              "    <button class=\"colab-df-generate\" onclick=\"generateWithVariable('data1')\"\n",
              "            title=\"Generate code using this dataframe.\"\n",
              "            style=\"display:none;\">\n",
              "\n",
              "  <svg xmlns=\"http://www.w3.org/2000/svg\" height=\"24px\"viewBox=\"0 0 24 24\"\n",
              "       width=\"24px\">\n",
              "    <path d=\"M7,19H8.4L18.45,9,17,7.55,7,17.6ZM5,21V16.75L18.45,3.32a2,2,0,0,1,2.83,0l1.4,1.43a1.91,1.91,0,0,1,.58,1.4,1.91,1.91,0,0,1-.58,1.4L9.25,21ZM18.45,9,17,7.55Zm-12,3A5.31,5.31,0,0,0,4.9,8.1,5.31,5.31,0,0,0,1,6.5,5.31,5.31,0,0,0,4.9,4.9,5.31,5.31,0,0,0,6.5,1,5.31,5.31,0,0,0,8.1,4.9,5.31,5.31,0,0,0,12,6.5,5.46,5.46,0,0,0,6.5,12Z\"/>\n",
              "  </svg>\n",
              "    </button>\n",
              "    <script>\n",
              "      (() => {\n",
              "      const buttonEl =\n",
              "        document.querySelector('#id_7ad03ecb-927a-424e-adcb-58b8db08b28a button.colab-df-generate');\n",
              "      buttonEl.style.display =\n",
              "        google.colab.kernel.accessAllowed ? 'block' : 'none';\n",
              "\n",
              "      buttonEl.onclick = () => {\n",
              "        google.colab.notebook.generateWithVariable('data1');\n",
              "      }\n",
              "      })();\n",
              "    </script>\n",
              "  </div>\n",
              "\n",
              "    </div>\n",
              "  </div>\n"
            ],
            "application/vnd.google.colaboratory.intrinsic+json": {
              "type": "dataframe",
              "variable_name": "data1",
              "summary": "{\n  \"name\": \"data1\",\n  \"rows\": 193,\n  \"fields\": [\n    {\n      \"column\": \"country\",\n      \"properties\": {\n        \"dtype\": \"string\",\n        \"num_unique_values\": 193,\n        \"samples\": [\n          \"Czech Republic\",\n          \"Qatar\",\n          \"Iceland\"\n        ],\n        \"semantic_type\": \"\",\n        \"description\": \"\"\n      }\n    },\n    {\n      \"column\": \"beer_servings\",\n      \"properties\": {\n        \"dtype\": \"number\",\n        \"std\": 100.52471415085762,\n        \"min\": 0.0,\n        \"max\": 376.0,\n        \"num_unique_values\": 126,\n        \"samples\": [\n          98.0,\n          173.0,\n          36.0\n        ],\n        \"semantic_type\": \"\",\n        \"description\": \"\"\n      }\n    },\n    {\n      \"column\": \"spirit_servings\",\n      \"properties\": {\n        \"dtype\": \"number\",\n        \"std\": 89.14295777720804,\n        \"min\": 0.0,\n        \"max\": 438.0,\n        \"num_unique_values\": 106,\n        \"samples\": [\n          237.0,\n          176.0,\n          128.0\n        ],\n        \"semantic_type\": \"\",\n        \"description\": \"\"\n      }\n    },\n    {\n      \"column\": \"wine_servings\",\n      \"properties\": {\n        \"dtype\": \"number\",\n        \"std\": 80.35886783413324,\n        \"min\": 0.0,\n        \"max\": 370.0,\n        \"num_unique_values\": 78,\n        \"samples\": [\n          59.0,\n          0.0,\n          97.0\n        ],\n        \"semantic_type\": \"\",\n        \"description\": \"\"\n      }\n    },\n    {\n      \"column\": \"total_litres_of_pure_alcohol\",\n      \"properties\": {\n        \"dtype\": \"number\",\n        \"std\": 3.7676541972542092,\n        \"min\": 0.0,\n        \"max\": 14.4,\n        \"num_unique_values\": 90,\n        \"samples\": [\n          0.5,\n          4.3,\n          1.9\n        ],\n        \"semantic_type\": \"\",\n        \"description\": \"\"\n      }\n    },\n    {\n      \"column\": \"continent\",\n      \"properties\": {\n        \"dtype\": \"category\",\n        \"num_unique_values\": 6,\n        \"samples\": [\n          \"Asia\",\n          \"Europe\",\n          \"Oceania\"\n        ],\n        \"semantic_type\": \"\",\n        \"description\": \"\"\n      }\n    }\n  ]\n}"
            }
          },
          "metadata": {},
          "execution_count": 25
        }
      ]
    },
    {
      "cell_type": "code",
      "source": [
        "data1.isna().sum()"
      ],
      "metadata": {
        "colab": {
          "base_uri": "https://localhost:8080/"
        },
        "id": "IPB4DnqYJLzD",
        "outputId": "74c56b22-bfd0-4355-c1e1-f96fb78521e3"
      },
      "execution_count": 34,
      "outputs": [
        {
          "output_type": "execute_result",
          "data": {
            "text/plain": [
              "country                         0\n",
              "beer_servings                   8\n",
              "spirit_servings                 8\n",
              "wine_servings                   6\n",
              "total_litres_of_pure_alcohol    1\n",
              "continent                       0\n",
              "dtype: int64"
            ]
          },
          "metadata": {},
          "execution_count": 34
        }
      ]
    },
    {
      "cell_type": "code",
      "source": [
        "data1['beer_servings']=data1['beer_servings'].fillna(data['beer_servings'].median())\n",
        "data1['spirit_servings']=data1['spirit_servings'].fillna(data['spirit_servings'].median())\n",
        "data1['wine_servings']=data1['wine_servings'].fillna(data['wine_servings'].median())\n",
        "data1['total_litres_of_pure_alcohol']=data1['total_litres_of_pure_alcohol'].fillna(data['total_litres_of_pure_alcohol'].median())"
      ],
      "metadata": {
        "id": "s6UpkZhfJfF1"
      },
      "execution_count": 40,
      "outputs": []
    },
    {
      "cell_type": "code",
      "source": [
        "data1.isna().sum()"
      ],
      "metadata": {
        "colab": {
          "base_uri": "https://localhost:8080/"
        },
        "id": "DEbVZPG6Jf79",
        "outputId": "b6af3753-f82a-4045-8a51-d9f2e90ce05a"
      },
      "execution_count": 41,
      "outputs": [
        {
          "output_type": "execute_result",
          "data": {
            "text/plain": [
              "country                         0\n",
              "beer_servings                   0\n",
              "spirit_servings                 0\n",
              "wine_servings                   0\n",
              "total_litres_of_pure_alcohol    0\n",
              "continent                       0\n",
              "dtype: int64"
            ]
          },
          "metadata": {},
          "execution_count": 41
        }
      ]
    },
    {
      "cell_type": "code",
      "source": [
        "mean = np.mean(data1['wine_servings'])\n",
        "std = np.std(data1['wine_servings'])\n"
      ],
      "metadata": {
        "id": "6lO3MBNLEK2i"
      },
      "execution_count": 42,
      "outputs": []
    },
    {
      "cell_type": "code",
      "source": [
        "print(\"Mean Value is : \", mean)\n",
        "print(\"Standard deviation Value is : \", std)\n",
        "\n"
      ],
      "metadata": {
        "colab": {
          "base_uri": "https://localhost:8080/"
        },
        "id": "_PniQfWGEM3N",
        "outputId": "aeeb85a7-44a1-4896-b08e-09e9d868c62e"
      },
      "execution_count": 43,
      "outputs": [
        {
          "output_type": "stream",
          "name": "stdout",
          "text": [
            "Mean Value is :  48.8860103626943\n",
            "Standard deviation Value is :  79.21098906557098\n"
          ]
        }
      ]
    },
    {
      "cell_type": "code",
      "source": [
        "plt.figure()\n",
        "plt.boxplot(data1['wine_servings'])\n"
      ],
      "metadata": {
        "colab": {
          "base_uri": "https://localhost:8080/",
          "height": 575
        },
        "id": "EJWmDGb1GE04",
        "outputId": "9d0901b6-c647-4314-fb20-a71c66b21f87"
      },
      "execution_count": 44,
      "outputs": [
        {
          "output_type": "execute_result",
          "data": {
            "text/plain": [
              "{'whiskers': [<matplotlib.lines.Line2D at 0x7acd2ef4b7c0>,\n",
              "  <matplotlib.lines.Line2D at 0x7acd38d5c970>],\n",
              " 'caps': [<matplotlib.lines.Line2D at 0x7acd38e29660>,\n",
              "  <matplotlib.lines.Line2D at 0x7acd69882d40>],\n",
              " 'boxes': [<matplotlib.lines.Line2D at 0x7acd2ec6bcd0>],\n",
              " 'medians': [<matplotlib.lines.Line2D at 0x7acd2f272020>],\n",
              " 'fliers': [<matplotlib.lines.Line2D at 0x7acd2f270280>],\n",
              " 'means': []}"
            ]
          },
          "metadata": {},
          "execution_count": 44
        },
        {
          "output_type": "display_data",
          "data": {
            "text/plain": [
              "<Figure size 640x480 with 1 Axes>"
            ],
            "image/png": "[encoded data removed]"
          },
          "metadata": {}
        }
      ]
    },
    {
      "cell_type": "code",
      "source": [
        "#### calculate z score\n",
        "\n",
        "data2=data1['beer_servings']\n",
        "threshold = 3\n",
        "outlier = []\n",
        "for i in data2:\n",
        "\tz = (i-mean)/std\n",
        "\tif z > threshold:\n",
        "\t\toutlier.append(i)\n",
        "print('outlier in dataset is', outlier)\n"
      ],
      "metadata": {
        "colab": {
          "base_uri": "https://localhost:8080/"
        },
        "id": "neuSaYMeE6c_",
        "outputId": "5ddc7f24-706e-4ee6-ffd7-7c2d327f0d3b"
      },
      "execution_count": 45,
      "outputs": [
        {
          "output_type": "stream",
          "name": "stdout",
          "text": [
            "outlier in dataset is [295.0, 361.0, 347.0, 346.0, 313.0, 343.0, 376.0, 306.0, 343.0, 297.0]\n"
          ]
        }
      ]
    },
    {
      "cell_type": "code",
      "source": [
        "data['beer_servings']=data['beer_servings'].clip(lower=295.0,upper=361.0)\n",
        "plt.boxplot(data1['beer_servings'])"
      ],
      "metadata": {
        "colab": {
          "base_uri": "https://localhost:8080/",
          "height": 575
        },
        "id": "voLyrxQRFaw6",
        "outputId": "f061d66a-3b75-41f1-9dac-51696f07a4b5"
      },
      "execution_count": 47,
      "outputs": [
        {
          "output_type": "execute_result",
          "data": {
            "text/plain": [
              "{'whiskers': [<matplotlib.lines.Line2D at 0x7acd2ea65840>,\n",
              "  <matplotlib.lines.Line2D at 0x7acd2ea65ae0>],\n",
              " 'caps': [<matplotlib.lines.Line2D at 0x7acd2ea65d80>,\n",
              "  <matplotlib.lines.Line2D at 0x7acd2ea66020>],\n",
              " 'boxes': [<matplotlib.lines.Line2D at 0x7acd2ea655a0>],\n",
              " 'medians': [<matplotlib.lines.Line2D at 0x7acd2ea662c0>],\n",
              " 'fliers': [<matplotlib.lines.Line2D at 0x7acd2ea66560>],\n",
              " 'means': []}"
            ]
          },
          "metadata": {},
          "execution_count": 47
        },
        {
          "output_type": "display_data",
          "data": {
            "text/plain": [
              "<Figure size 640x480 with 1 Axes>"
            ],
            "image/png": "[encoded data removed]"
          },
          "metadata": {}
        }
      ]
    },
    {
      "cell_type": "code",
      "source": [
        "###### Spirit Servings"
      ],
      "metadata": {
        "id": "b24OFaqTKCgc"
      },
      "execution_count": null,
      "outputs": []
    },
    {
      "cell_type": "code",
      "source": [
        "mean1 = np.mean(data1['spirit_servings'])\n",
        "std1 = np.std(data1['spirit_servings'])"
      ],
      "metadata": {
        "id": "nHeik8DiF6-W"
      },
      "execution_count": 70,
      "outputs": []
    },
    {
      "cell_type": "code",
      "source": [
        "print(\"Mean Value is : \", mean1)\n",
        "print(\"Standard deviation Value is : \", std1)\n",
        "\n"
      ],
      "metadata": {
        "colab": {
          "base_uri": "https://localhost:8080/"
        },
        "id": "zhBgVUERKMPR",
        "outputId": "dd59026d-80b1-4023-82a6-31eb2b3c3e14"
      },
      "execution_count": 71,
      "outputs": [
        {
          "output_type": "stream",
          "name": "stdout",
          "text": [
            "Mean Value is :  373.33678756476684\n",
            "Standard deviation Value is :  4.666665388268477\n"
          ]
        }
      ]
    },
    {
      "cell_type": "code",
      "source": [
        "plt.boxplot(data1['spirit_servings'])"
      ],
      "metadata": {
        "colab": {
          "base_uri": "https://localhost:8080/",
          "height": 575
        },
        "id": "9LzjUYUFKQNJ",
        "outputId": "532b880b-3eea-4250-cb20-5740b0c18452"
      },
      "execution_count": 72,
      "outputs": [
        {
          "output_type": "execute_result",
          "data": {
            "text/plain": [
              "{'whiskers': [<matplotlib.lines.Line2D at 0x7acd2e3be410>,\n",
              "  <matplotlib.lines.Line2D at 0x7acd2e3be590>],\n",
              " 'caps': [<matplotlib.lines.Line2D at 0x7acd2e3be830>,\n",
              "  <matplotlib.lines.Line2D at 0x7acd2e3bead0>],\n",
              " 'boxes': [<matplotlib.lines.Line2D at 0x7acd2e3be170>],\n",
              " 'medians': [<matplotlib.lines.Line2D at 0x7acd2e3bed70>],\n",
              " 'fliers': [<matplotlib.lines.Line2D at 0x7acd2e3bf010>],\n",
              " 'means': []}"
            ]
          },
          "metadata": {},
          "execution_count": 72
        },
        {
          "output_type": "display_data",
          "data": {
            "text/plain": [
              "<Figure size 640x480 with 1 Axes>"
            ],
            "image/png": "[encoded data removed]"
          },
          "metadata": {}
        }
      ]
    },
    {
      "cell_type": "code",
      "source": [
        "#### calculate z score\n",
        "\n",
        "data2=data1['spirit_servings']\n",
        "threshold = 3\n",
        "outlier = []\n",
        "for i in data2:\n",
        "\tz = (i-mean1)/std1\n",
        "\tif z > threshold:\n",
        "\t\toutlier.append(i)\n",
        "print('outlier in dataset is', outlier)"
      ],
      "metadata": {
        "colab": {
          "base_uri": "https://localhost:8080/"
        },
        "id": "UnAUQETyKVxk",
        "outputId": "eeef2cbc-2977-4a83-fe70-91dbf86e382e"
      },
      "execution_count": 82,
      "outputs": [
        {
          "output_type": "stream",
          "name": "stdout",
          "text": [
            "outlier in dataset is [438.0]\n"
          ]
        }
      ]
    },
    {
      "cell_type": "code",
      "source": [],
      "metadata": {
        "id": "Jygl9UTIN-E0"
      },
      "execution_count": null,
      "outputs": []
    },
    {
      "cell_type": "code",
      "source": [
        "data1['spirit_servings']=data1['spirit_servings'].clip(438.0)\n",
        "plt.boxplot(data1['spirit_servings'])"
      ],
      "metadata": {
        "colab": {
          "base_uri": "https://localhost:8080/",
          "height": 575
        },
        "id": "TOhlLTbqKsHZ",
        "outputId": "afe28221-5c73-4abd-83c6-6c7f9d03f242"
      },
      "execution_count": 84,
      "outputs": [
        {
          "output_type": "execute_result",
          "data": {
            "text/plain": [
              "{'whiskers': [<matplotlib.lines.Line2D at 0x7acd2e30bf70>,\n",
              "  <matplotlib.lines.Line2D at 0x7acd2e30b550>],\n",
              " 'caps': [<matplotlib.lines.Line2D at 0x7acd2e308340>,\n",
              "  <matplotlib.lines.Line2D at 0x7acd2e30bee0>],\n",
              " 'boxes': [<matplotlib.lines.Line2D at 0x7acd2e30ace0>],\n",
              " 'medians': [<matplotlib.lines.Line2D at 0x7acd2e30ac80>],\n",
              " 'fliers': [<matplotlib.lines.Line2D at 0x7acd2e30a2c0>],\n",
              " 'means': []}"
            ]
          },
          "metadata": {},
          "execution_count": 84
        },
        {
          "output_type": "display_data",
          "data": {
            "text/plain": [
              "<Figure size 640x480 with 1 Axes>"
            ],
            "image/png": "[encoded data removed]"
          },
          "metadata": {}
        }
      ]
    }
  ]
}