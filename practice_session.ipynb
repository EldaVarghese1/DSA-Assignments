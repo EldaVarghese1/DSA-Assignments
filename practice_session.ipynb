{
  "nbformat": 4,
  "nbformat_minor": 0,
  "metadata": {
    "colab": {
      "provenance": []
    },
    "kernelspec": {
      "name": "python3",
      "display_name": "Python 3"
    },
    "language_info": {
      "name": "python"
    }
  },
  "cells": [
    {
      "cell_type": "code",
      "execution_count": 1,
      "metadata": {
        "colab": {
          "base_uri": "https://localhost:8080/"
        },
        "id": "0slHX45BYWKW",
        "outputId": "0a887089-1649-498a-99bd-0c7b6cc3022b"
      },
      "outputs": [
        {
          "name": "stdout",
          "output_type": "stream",
          "text": [
            "Enter Radius3\n"
          ]
        },
        {
          "output_type": "execute_result",
          "data": {
            "text/plain": [
              "28.26"
            ]
          },
          "metadata": {},
          "execution_count": 1
        }
      ],
      "source": [
        "#### Python practice seesion\n",
        "\n",
        "\n",
        "def area_circle():\n",
        "  radius=int(input(\"Enter Radius\"))\n",
        "  area= 3.14*(radius*radius)\n",
        "  return area\n",
        "area_circle()"
      ]
    },
    {
      "cell_type": "code",
      "source": [
        "name= input(\"Enter Your Nmae\")\n",
        "roll_number= input(\"Enter Your Roll Number\")\n",
        "\n",
        "mark= input(\"Enter Your Mark\")\n",
        "\n",
        "print(\"Name : \", name, \"\\nRoll Num : \",roll_number ,\"\\nMark : \",mark)\n"
      ],
      "metadata": {
        "colab": {
          "base_uri": "https://localhost:8080/"
        },
        "id": "yfocou7CYiIt",
        "outputId": "e2239db1-b44d-41d8-a1a8-27fa7150f44e"
      },
      "execution_count": 2,
      "outputs": [
        {
          "output_type": "stream",
          "name": "stdout",
          "text": [
            "Enter Your NmaeAnsha\n",
            "Enter Your Roll Number12\n",
            "Enter Your Mark45\n",
            "Name :  Ansha \n",
            "Roll Num :  12 \n",
            "Mark :  45\n"
          ]
        }
      ]
    },
    {
      "cell_type": "code",
      "source": [
        "#Write a Python program to get the largest number from a list.\n",
        "#Sample input: 12, 3, 47, 10\n",
        "#Sample output: 47 is the largest number.\n",
        "def large_num():\n",
        "  numbers = [12, 3, 47, 10]\n",
        "  max_num = numbers[0]\n",
        "  for num in numbers:\n",
        "    if num > max_num:\n",
        "      max_num = num\n",
        "  return max_num\n",
        "\n",
        "\n",
        "large_num()\n"
      ],
      "metadata": {
        "colab": {
          "base_uri": "https://localhost:8080/"
        },
        "id": "Ncb1Li55Yomi",
        "outputId": "97639076-2aed-44b0-ff5e-9d45b6fcd282"
      },
      "execution_count": 3,
      "outputs": [
        {
          "output_type": "execute_result",
          "data": {
            "text/plain": [
              "47"
            ]
          },
          "metadata": {},
          "execution_count": 3
        }
      ]
    },
    {
      "cell_type": "code",
      "source": [
        "# Given a range of first 10 numbers, write a Python program to iterate from start number to the end\n",
        "#number and print the sum of the current number and previous number.\n",
        "sample_list = [12, 3, 47, 10]\n",
        "\n",
        "def getSumOfCurrentPreviousNumber():\n",
        "\n",
        "  numbers=[1,2,3,4,5]\n",
        "  list_length=len(numbers)\n",
        "  for i in range(list_length):\n",
        "    current_num= numbers[i]\n",
        "    previous_number=numbers[i-1] if(i>0)else 0\n",
        "    sum= current_num+previous_number\n",
        "    print(\"current number is \", current_num)\n",
        "    print(\"Sum of previous & currentnumber is \", sum)\n",
        "\n",
        "getSumOfCurrentPreviousNumber()"
      ],
      "metadata": {
        "colab": {
          "base_uri": "https://localhost:8080/"
        },
        "id": "IC1v6XNvY1nx",
        "outputId": "47b699ec-d8ba-403a-d461-84ade279b7ca"
      },
      "execution_count": 4,
      "outputs": [
        {
          "output_type": "stream",
          "name": "stdout",
          "text": [
            "current number is  1\n",
            "Sum of previous & currentnumber is  1\n",
            "current number is  2\n",
            "Sum of previous & currentnumber is  3\n",
            "current number is  3\n",
            "Sum of previous & currentnumber is  5\n",
            "current number is  4\n",
            "Sum of previous & currentnumber is  7\n",
            "current number is  5\n",
            "Sum of previous & currentnumber is  9\n"
          ]
        }
      ]
    },
    {
      "cell_type": "code",
      "source": [
        "#Write a Python program to print only those numbers which are divisible of 5.\n",
        "#Sample input: 10, 20,33,46,55 Sample output: 10, 20, 55\n",
        "\n",
        "def divisibleByFive():\n",
        "  num= int(input(\"Enter Number\"))\n",
        "  if(num%5==0):\n",
        "    print(num,\" is divisible by 5\")\n",
        "  else :\n",
        "    print(num ,\" Not divisible by 5\")"
      ],
      "metadata": {
        "id": "AknTot1uY5df"
      },
      "execution_count": 5,
      "outputs": []
    },
    {
      "cell_type": "code",
      "source": [
        "divisibleByFive()"
      ],
      "metadata": {
        "colab": {
          "base_uri": "https://localhost:8080/"
        },
        "id": "Pft6KzhwY8VU",
        "outputId": "1f80da9b-c9eb-4750-9c5e-3496576b60c2"
      },
      "execution_count": 6,
      "outputs": [
        {
          "output_type": "stream",
          "name": "stdout",
          "text": [
            "Enter Number8\n",
            "8  Not divisible by 5\n"
          ]
        }
      ]
    },
    {
      "cell_type": "code",
      "source": [
        "def primeOrNot():\n",
        "  num=int(input(\"Enter number to check prime or not \"))\n",
        "  if num < 2:\n",
        "    print(f\"{num} is not a prime number.\")\n",
        "    return\n",
        "  for i in range(2,num):\n",
        "    if num%i==0:\n",
        "      print(num,\" not a prime number\")\n",
        "      break\n",
        "  else:\n",
        "      print(num,\" is prime\")\n",
        "\n",
        "\n",
        "primeOrNot()\n",
        "\n"
      ],
      "metadata": {
        "colab": {
          "base_uri": "https://localhost:8080/"
        },
        "id": "ML6Lc_kZZAPe",
        "outputId": "fa996eda-67a4-4d89-d171-6a23231628aa"
      },
      "execution_count": 8,
      "outputs": [
        {
          "output_type": "stream",
          "name": "stdout",
          "text": [
            "Enter number to check prime or not 9\n",
            "9  not a prime number\n"
          ]
        }
      ]
    },
    {
      "cell_type": "code",
      "source": [
        "#Write a Python program to reverse a list using for loop.\n",
        "\n",
        "\n",
        "def reverseList():\n",
        "  number_list=[1,2,3,4,5]\n",
        "  length=len(number_list)\n",
        "  new_list=[]\n",
        "  reversed_list=[]\n",
        "  for num in range(length):\n",
        "    new_list.append(number_list[num])\n",
        "    new_list.reverse()\n",
        "  return new_list\n",
        "\n",
        "reverseList()"
      ],
      "metadata": {
        "colab": {
          "base_uri": "https://localhost:8080/"
        },
        "id": "-z9-wZ4sZFs3",
        "outputId": "926a97cf-91ce-4dd8-90ce-3718e2e563ed"
      },
      "execution_count": 25,
      "outputs": [
        {
          "output_type": "execute_result",
          "data": {
            "text/plain": [
              "[4, 2, 0, 1, 3]"
            ]
          },
          "metadata": {},
          "execution_count": 25
        }
      ]
    },
    {
      "cell_type": "code",
      "source": [
        "def printPyramid(number):\n",
        "  for i in range(number):\n",
        "      print(\"*\"* (i + 1))\n",
        "\n",
        "printPyramid(3)"
      ],
      "metadata": {
        "colab": {
          "base_uri": "https://localhost:8080/"
        },
        "id": "rpklUX6HZNL2",
        "outputId": "a45b24bc-53fe-4985-ea8b-ceedd9070946"
      },
      "execution_count": 10,
      "outputs": [
        {
          "output_type": "stream",
          "name": "stdout",
          "text": [
            "*\n",
            "**\n",
            "***\n"
          ]
        }
      ]
    },
    {
      "cell_type": "code",
      "source": [
        "def oddOrEven():\n",
        "  number= int(input(\"enter a number\"))\n",
        "  if(number%2==0):\n",
        "    print(\"Weird\")\n",
        "  elif(5>number>2):\n",
        "    print(\"not weird\")\n",
        "  elif(20>number>6):\n",
        "    print(\"weird\")\n",
        "  elif(number>20):\n",
        "    print(\"not weird\")\n",
        "\n",
        "\n",
        "\n",
        "\n",
        "\n",
        "oddOrEven()"
      ],
      "metadata": {
        "colab": {
          "base_uri": "https://localhost:8080/"
        },
        "id": "x4GytKAHZRx2",
        "outputId": "8b2ecef8-875b-48ab-d754-ccc5d08bbebe"
      },
      "execution_count": 11,
      "outputs": [
        {
          "output_type": "stream",
          "name": "stdout",
          "text": [
            "enter a number6\n",
            "Weird\n"
          ]
        }
      ]
    },
    {
      "cell_type": "code",
      "source": [
        "def findMaxNum(num1,num2,num3):\n",
        "  maxNum= max(num1,num2,num3)\n",
        "  return maxNum\n",
        "\n",
        "num1=12\n",
        "num2=37\n",
        "num3=7\n",
        "findMaxNum(37,12,7)"
      ],
      "metadata": {
        "colab": {
          "base_uri": "https://localhost:8080/"
        },
        "id": "AGM-JgZjZUMd",
        "outputId": "7c68e804-5eb8-422e-ce9c-4c984671f5ef"
      },
      "execution_count": 12,
      "outputs": [
        {
          "output_type": "execute_result",
          "data": {
            "text/plain": [
              "37"
            ]
          },
          "metadata": {},
          "execution_count": 12
        }
      ]
    },
    {
      "cell_type": "code",
      "source": [
        "def printPyramid(number):\n",
        "  for i in range(number):\n",
        "      print(\"*\"* (i + 1))\n",
        "  for i in range(number - 1, 0, -1):\n",
        "    print(\"*\"*(i))\n",
        "\n",
        "printPyramid(5)"
      ],
      "metadata": {
        "colab": {
          "base_uri": "https://localhost:8080/"
        },
        "id": "gm_Nm5CjZYeR",
        "outputId": "2e39a216-b2db-4b11-8d40-42f2c0441099"
      },
      "execution_count": 13,
      "outputs": [
        {
          "output_type": "stream",
          "name": "stdout",
          "text": [
            "*\n",
            "**\n",
            "***\n",
            "****\n",
            "*****\n",
            "****\n",
            "***\n",
            "**\n",
            "*\n"
          ]
        }
      ]
    },
    {
      "cell_type": "code",
      "source": [
        "def count_character_occurrences(input_string):\n",
        "    # Create an empty dictionary to store character counts\n",
        "    char_counts = {}\n",
        "\n",
        "    # Iterate through each character in the input string\n",
        "    for char in input_string:\n",
        "        # Increment the count for the character in the dictionary\n",
        "        char_counts[char] = char_counts.get(char, 0) + 1\n",
        "\n",
        "    return char_counts\n",
        "\n",
        "# Accept a string input from the user\n",
        "user_input = input(\"Enter a string: \")\n",
        "\n",
        "# Call the function to get character counts\n",
        "result = count_character_occurrences(user_input)\n",
        "\n",
        "# Display the character counts\n",
        "print(\"Character counts in the input string:\")\n",
        "for char, count in result.items():\n",
        "    print(f\"The character '{char}' occurs {count} times.\")\n"
      ],
      "metadata": {
        "colab": {
          "base_uri": "https://localhost:8080/"
        },
        "id": "wcSmHEGhZa52",
        "outputId": "0f6e5f8c-65e6-46cf-adcd-fefd128e9f00"
      },
      "execution_count": 14,
      "outputs": [
        {
          "output_type": "stream",
          "name": "stdout",
          "text": [
            "Enter a string: assemble\n",
            "Character counts in the input string:\n",
            "The character 'a' occurs 1 times.\n",
            "The character 's' occurs 2 times.\n",
            "The character 'e' occurs 2 times.\n",
            "The character 'm' occurs 1 times.\n",
            "The character 'b' occurs 1 times.\n",
            "The character 'l' occurs 1 times.\n"
          ]
        }
      ]
    },
    {
      "cell_type": "code",
      "source": [
        "#Write a Python function called exponent(base,exp) that returns an integer value of base raises to the power of exp\n",
        "\n",
        "def showExponentValue():\n",
        "  baseValue=int(input(\"Enter Base Value\"))\n",
        "  exponentValue=int(input(\"Enter Exponent value\"))\n",
        "\n",
        "  answer=baseValue**exponentValue\n",
        "  return answer\n",
        "showExponentValue()"
      ],
      "metadata": {
        "colab": {
          "base_uri": "https://localhost:8080/"
        },
        "id": "tIPe6uEFZkGT",
        "outputId": "d7f34f91-667c-4df1-93c0-217427fbc464"
      },
      "execution_count": 15,
      "outputs": [
        {
          "name": "stdout",
          "output_type": "stream",
          "text": [
            "Enter Base Value2\n",
            "Enter Exponent value3\n"
          ]
        },
        {
          "output_type": "execute_result",
          "data": {
            "text/plain": [
              "8"
            ]
          },
          "metadata": {},
          "execution_count": 15
        }
      ]
    },
    {
      "cell_type": "code",
      "source": [
        "#Write a Python function that takes a positive integer and returns the sum of the cube of all the\n",
        "#positive integers smaller than the specified number\n",
        "\n",
        "def cubesOfGivenInteger():\n",
        "  givenValue= int(input(\"enter a number\"))\n",
        "  sum=0\n",
        "  for i in range(givenValue):\n",
        "    sum += i ** 3\n",
        "  return sum\n",
        "cubesOfGivenInteger()"
      ],
      "metadata": {
        "colab": {
          "base_uri": "https://localhost:8080/"
        },
        "id": "NJVcsvqbZofh",
        "outputId": "144c3cbc-8668-4351-a867-c45011f5bf52"
      },
      "execution_count": 16,
      "outputs": [
        {
          "name": "stdout",
          "output_type": "stream",
          "text": [
            "enter a number3\n"
          ]
        },
        {
          "output_type": "execute_result",
          "data": {
            "text/plain": [
              "9"
            ]
          },
          "metadata": {},
          "execution_count": 16
        }
      ]
    },
    {
      "cell_type": "code",
      "source": [
        "#Write a Python program which iterates from 1 to 10. For multiples of 2, print “Fizz” instead of the number and for the multiples of 5, print “Buzz”. For numbers which are multiples of both 2 and 5, print “FizzBuzz”.\n",
        "\n",
        "\n",
        "def fizzBuzz():\n",
        "\n",
        "  for i in range(1,11):\n",
        "\n",
        "    if(i%2==0 and i%5==0):\n",
        "      print(\"FizzBuzz\")\n",
        "    elif(i%2==0 ):\n",
        "      print(\"Fizz\")\n",
        "    elif(i%5==0):\n",
        "      print(\"Buzz\")\n",
        "    else:\n",
        "      print(i)\n",
        "fizzBuzz()"
      ],
      "metadata": {
        "colab": {
          "base_uri": "https://localhost:8080/"
        },
        "id": "sdXOmQSzZstn",
        "outputId": "b87bafaa-539c-486a-d11c-89a59c08fe2e"
      },
      "execution_count": 17,
      "outputs": [
        {
          "output_type": "stream",
          "name": "stdout",
          "text": [
            "1\n",
            "Fizz\n",
            "3\n",
            "Fizz\n",
            "Buzz\n",
            "Fizz\n",
            "7\n",
            "Fizz\n",
            "9\n",
            "FizzBuzz\n"
          ]
        }
      ]
    },
    {
      "cell_type": "code",
      "source": [
        "#Write a Python program to find the most frequent item in a list of numbers.\n",
        "\n",
        "def countNumberofOccurence(listofNumber):\n",
        "\n",
        "  countOccurences= listofNumber.count\n",
        "\n",
        ""
      ],
      "metadata": {
        "id": "2wBTts-_Zz16"
      },
      "execution_count": null,
      "outputs": []
    },
    {
      "cell_type": "code",
      "source": [
        "#Write a Python program to find the sum of squares of the numbers in a list.\n",
        "\n",
        "\n",
        "def sumOfSquresOfList(listOfNumber):\n",
        "  sum=0\n",
        "  for i in listOfNumber:\n",
        "    sum+=i**2\n",
        "  return sum\n",
        "list=[2,1,3,1]\n",
        "sumOfSquresOfList(list)"
      ],
      "metadata": {
        "colab": {
          "base_uri": "https://localhost:8080/"
        },
        "id": "0KBBlrZ-Z7Ak",
        "outputId": "b43badc6-4741-4bc6-f2c4-8811e64c51ff"
      },
      "execution_count": 18,
      "outputs": [
        {
          "output_type": "execute_result",
          "data": {
            "text/plain": [
              "15"
            ]
          },
          "metadata": {},
          "execution_count": 18
        }
      ]
    },
    {
      "cell_type": "code",
      "source": [
        "#Write a Python program using for loop that will iterate from 1 to 15. For each iteration, check if the current number is odd or even, and display the message to the screen as odd or even\n",
        "\n",
        "def oddOrEven():\n",
        "  for i in range(1,16):\n",
        "    if(i%2==0):\n",
        "      print(i,\" is even\")\n",
        "    else:\n",
        "      print(i,\" is odd\")\n",
        "oddOrEven()"
      ],
      "metadata": {
        "colab": {
          "base_uri": "https://localhost:8080/"
        },
        "id": "u8GBqkU-Z7fM",
        "outputId": "ccb78293-fc99-4100-c849-1d1552a9de49"
      },
      "execution_count": 19,
      "outputs": [
        {
          "output_type": "stream",
          "name": "stdout",
          "text": [
            "1  is odd\n",
            "2  is even\n",
            "3  is odd\n",
            "4  is even\n",
            "5  is odd\n",
            "6  is even\n",
            "7  is odd\n",
            "8  is even\n",
            "9  is odd\n",
            "10  is even\n",
            "11  is odd\n",
            "12  is even\n",
            "13  is odd\n",
            "14  is even\n",
            "15  is odd\n"
          ]
        }
      ]
    },
    {
      "cell_type": "code",
      "source": [
        "#Write a Python program to convert temperatures to and from Celsius Fahrenheit. [Formula: c/5=f-32/9 where c=temperature in Celsius and f= temperature in Fahrenheit.]\n",
        "\n",
        "def converTemp():\n",
        "  tempInF= int(input(\"Enter temparature in fahrenheit\"))\n",
        "\n",
        "  tempinCelcius=5/9*(tempInF-32)\n",
        "  return tempinCelcius\n",
        "\n",
        "converTemp()"
      ],
      "metadata": {
        "colab": {
          "base_uri": "https://localhost:8080/"
        },
        "id": "9EpKt1jVZ9o2",
        "outputId": "9e8b8982-4b8d-43a2-9dac-e1828ce4aa1d"
      },
      "execution_count": 20,
      "outputs": [
        {
          "name": "stdout",
          "output_type": "stream",
          "text": [
            "Enter temparature in fahrenheit41\n"
          ]
        },
        {
          "output_type": "execute_result",
          "data": {
            "text/plain": [
              "5.0"
            ]
          },
          "metadata": {},
          "execution_count": 20
        }
      ]
    },
    {
      "cell_type": "code",
      "source": [
        "#factorila of a num\n",
        "def factorial():\n",
        "  sum=1\n",
        "  num= int(input(\"Enter a number\"))\n",
        "  for i in range(1,num+1):\n",
        "    sum*=i\n",
        "  return sum\n",
        "factorial()"
      ],
      "metadata": {
        "colab": {
          "base_uri": "https://localhost:8080/"
        },
        "id": "kW7b5as8Z_4D",
        "outputId": "3e9c3fef-318a-4b6d-a53a-6bfa898d111b"
      },
      "execution_count": 21,
      "outputs": [
        {
          "name": "stdout",
          "output_type": "stream",
          "text": [
            "Enter a number4\n"
          ]
        },
        {
          "output_type": "execute_result",
          "data": {
            "text/plain": [
              "24"
            ]
          },
          "metadata": {},
          "execution_count": 21
        }
      ]
    },
    {
      "cell_type": "code",
      "source": [],
      "metadata": {
        "id": "xaNC6pvAaDic"
      },
      "execution_count": null,
      "outputs": []
    }
  ]
}